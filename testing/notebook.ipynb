{
 "cells": [
  {
   "cell_type": "code",
   "execution_count": 4,
   "id": "af87b511",
   "metadata": {},
   "outputs": [
    {
     "name": "stdout",
     "output_type": "stream",
     "text": [
      "Generated coordinates: Latitude 4.714406, Longitude -74.158576\n",
      "Status code: 200\n",
      "Response: {'label': '4', 'probability': 1.0}\n"
     ]
    }
   ],
   "source": [
    "import requests\n",
    "import random\n",
    "\n",
    "def generar_coordenadas_bogota(n=1):\n",
    "    # Límites aproximados de Bogotá (en grados decimales)\n",
    "    lat_min, lat_max = 4.48, 4.83\n",
    "    lon_min, lon_max = -74.20, -73.99\n",
    "\n",
    "    coordenadas = []\n",
    "    for _ in range(n):\n",
    "        lat = round(random.uniform(lat_min, lat_max), 6)\n",
    "        lon = round(random.uniform(lon_min, lon_max), 6)\n",
    "        coordenadas.append((lat, lon))\n",
    "\n",
    "\n",
    "    for lat, lon in coordenadas:\n",
    "        latitude = lat\n",
    "        longitude = lon\n",
    "    print(f\"Generated coordinates: Latitude {latitude}, Longitude {longitude}\")\n",
    "    url = \"http://localhost:8000/predict\"\n",
    "    payload = {\n",
    "        \"latitude\": latitude,\n",
    "        \"longitude\": longitude,\n",
    "    }\n",
    "    headers = {\n",
    "        \"Content-Type\": \"application/json\"\n",
    "    }\n",
    "\n",
    "    response = requests.post(url, json=payload, headers=headers)\n",
    "\n",
    "    return response\n",
    "\n",
    "res=generar_coordenadas_bogota(1)\n",
    "# Print status code and JSON response\n",
    "print(\"Status code:\", res.status_code)\n",
    "print(\"Response:\", res.json())\n"
   ]
  },
  {
   "cell_type": "code",
   "execution_count": null,
   "id": "d5f9d02f",
   "metadata": {},
   "outputs": [],
   "source": []
  }
 ],
 "metadata": {
  "kernelspec": {
   "display_name": "base",
   "language": "python",
   "name": "python3"
  },
  "language_info": {
   "codemirror_mode": {
    "name": "ipython",
    "version": 3
   },
   "file_extension": ".py",
   "mimetype": "text/x-python",
   "name": "python",
   "nbconvert_exporter": "python",
   "pygments_lexer": "ipython3",
   "version": "3.12.7"
  }
 },
 "nbformat": 4,
 "nbformat_minor": 5
}
